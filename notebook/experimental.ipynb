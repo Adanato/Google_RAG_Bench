{
 "cells": [
  {
   "cell_type": "code",
   "execution_count": 7,
   "metadata": {},
   "outputs": [
    {
     "name": "stdout",
     "output_type": "stream",
     "text": [
      "    22 contributor                                           question  id  \\\n",
      "0  1.0          tu  Who was previously appointed prime minister of...   0   \n",
      "1  1.0          tu  Elon Musk's online persona is synonymous with ...   1   \n",
      "2  1.0          tu  Elon Musk's online persona is synonymous with ...   2   \n",
      "3  1.0          tu  What is the smallest cube number which can be ...   3   \n",
      "4  1.0          tu  What is the smallest positive integer that can...   4   \n",
      "\n",
      "  effective_year next_review  false-premise                      category  \\\n",
      "0    before 2024         NaN            0.0  recall other entities/events   \n",
      "1    before 2024         NaN            0.0  recall other entities/events   \n",
      "2    before 2024         NaN            0.0  recall other entities/events   \n",
      "3    before 2024         NaN            1.0  recall other entities/events   \n",
      "4    before 2024         NaN            1.0  recall other entities/events   \n",
      "\n",
      "        freshness                                               urls  \\\n",
      "0  never-changing  https://en.wikipedia.org/wiki/List_of_United_K...   \n",
      "1  never-changing  https://www.businessinsider.com/elon-musk-offi...   \n",
      "2  never-changing  https://www.dailymail.co.uk/news/article-11379...   \n",
      "3  never-changing  https://en.wikipedia.org/wiki/Taxicab_number#:...   \n",
      "4  never-changing  http://www.gimaths.com/MathPages/Numbers/Prime...   \n",
      "\n",
      "                                              answer  \\\n",
      "0                                      David Cameron   \n",
      "1                                         Chief Twit   \n",
      "2                 Twitter Complaint Hotline Operator   \n",
      "3  According to the Fermat's Last Theorem, it is ...   \n",
      "4                       No prime number is a square.   \n",
      "\n",
      "                                               trick  \\\n",
      "0  This question aims to recall that Sir Keir Sta...   \n",
      "1  The context refers to Elon Musk updating his X...   \n",
      "2  The context refers to Elon Musk updating his X...   \n",
      "3  This question is designed to prompt recall of ...   \n",
      "4  This question is designed to prompt relevant v...   \n",
      "\n",
      "                                     entities/events domain  review reviewer  \n",
      "0                                                NaN    NaN     1.0    thinh  \n",
      "1                                                NaN    NaN     1.0    thinh  \n",
      "2                                                NaN    NaN     1.0    thinh  \n",
      "3  Ramanujan's number or the Ramanujan–Hardy numb...    NaN     1.0       tu  \n",
      "4                           prime vs. square numbers    NaN     1.0       tu  \n"
     ]
    },
    {
     "data": {
      "text/plain": [
       "Index([               22,     'contributor',        'question',\n",
       "                    'id',  'effective_year',     'next_review',\n",
       "         'false-premise',        'category',       'freshness',\n",
       "                  'urls',          'answer',           'trick',\n",
       "       'entities/events',          'domain',          'review',\n",
       "              'reviewer'],\n",
       "      dtype='object')"
      ]
     },
     "execution_count": 7,
     "metadata": {},
     "output_type": "execute_result"
    }
   ],
   "source": [
    "import pandas as pd\n",
    "\n",
    "# Replace 'my_data.xlsx' with your Excel file path or name\n",
    "excel_file_path = 'data/SEAL-0.xlsx'\n",
    "\n",
    "# If your Excel file has multiple sheets, specify which one to read\n",
    "# By default, pandas will read the first sheet if sheet_name is not provided\n",
    "sheet_name = 'Sheet1'  # or an integer index like 0\n",
    "\n",
    "# Read the Excel file into a pandas DataFrame\n",
    "df = pd.read_excel(excel_file_path, sheet_name=0)\n",
    "\n",
    "# Now 'df' is a pandas DataFrame containing your Excel data\n",
    "print(df.head())\n",
    "df.columns\n"
   ]
  }
 ],
 "metadata": {
  "kernelspec": {
   "display_name": "rag_bench",
   "language": "python",
   "name": "python3"
  },
  "language_info": {
   "codemirror_mode": {
    "name": "ipython",
    "version": 3
   },
   "file_extension": ".py",
   "mimetype": "text/x-python",
   "name": "python",
   "nbconvert_exporter": "python",
   "pygments_lexer": "ipython3",
   "version": "3.10.16"
  }
 },
 "nbformat": 4,
 "nbformat_minor": 2
}
