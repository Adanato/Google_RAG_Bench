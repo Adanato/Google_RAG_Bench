{
 "cells": [
  {
   "cell_type": "markdown",
   "metadata": {},
   "source": [
    "# SerpAPI test\n",
    "\n",
    "The AI overview block appears to be inside serpapi. Only problem is 100 query limit which hinders large scale generation"
   ]
  },
  {
   "cell_type": "code",
   "execution_count": null,
   "metadata": {},
   "outputs": [],
   "source": [
    "# basic_google_search.py\n",
    "from serpapi import GoogleSearch\n",
    "import json\n",
    "\n",
    "# Replace YOUR_API_KEY with your actual SerpApi key\n",
    "params = {\n",
    "    \"engine\": \"google\",\n",
    "    \"q\": \"how many birds in 12 days of christmas?\",  # your search query\n",
    "    \"api_key\": \"7bd559239610628183d17af9371132f8349b0609027d8a401f1cd80993814438\",\n",
    "    \"hl\": \"en\",  # language\n",
    "    \"gl\": \"us\"   # country\n",
    "}\n",
    "\n",
    "search = GoogleSearch(params)\n",
    "results = search.get_dict()\n",
    "\n",
    "# Print the entire JSON response\n",
    "print(\"Full JSON results (pretty-printed):\")\n",
    "print(json.dumps(results, indent=2))\n",
    "\n",
    "# If you want just the organic results:\n",
    "organic = results.get(\"organic_results\", [])\n",
    "for idx, result in enumerate(organic, start=1):\n",
    "    print(f\"\\nResult #{idx}\")\n",
    "    print(\"Title:\", result.get(\"title\"))\n",
    "    print(\"Link:\", result.get(\"link\"))\n",
    "    print(\"Snippet:\", result.get(\"snippet\"))\n",
    "\n"
   ]
  },
  {
   "cell_type": "markdown",
   "metadata": {},
   "source": [
    "# Test with playwright"
   ]
  },
  {
   "cell_type": "code",
   "execution_count": 4,
   "metadata": {},
   "outputs": [
    {
     "ename": "TargetClosedError",
     "evalue": "BrowserType.launch: Target page, context or browser has been closed\nBrowser logs:\n\n╔════════════════════════════════════════════════════════════════════════════════════════════════╗\n║ Looks like you launched a headed browser without having a XServer running.                     ║\n║ Set either 'headless: true' or use 'xvfb-run <your-playwright-app>' before running Playwright. ║\n║                                                                                                ║\n║ <3 Playwright Team                                                                             ║\n╚════════════════════════════════════════════════════════════════════════════════════════════════╝\nCall log:\n  - <launching> /home/adanato/.cache/ms-playwright/chromium-1155/chrome-linux/chrome --disable-field-trial-config --disable-background-networking --disable-background-timer-throttling --disable-backgrounding-occluded-windows --disable-back-forward-cache --disable-breakpad --disable-client-side-phishing-detection --disable-component-extensions-with-background-pages --disable-component-update --no-default-browser-check --disable-default-apps --disable-dev-shm-usage --disable-extensions --disable-features=ImprovedCookieControls,LazyFrameLoading,GlobalMediaControls,DestroyProfileOnBrowserClose,MediaRouter,DialMediaRouteProvider,AcceptCHFrame,AutoExpandDetailsElement,CertificateTransparencyComponentUpdater,AvoidUnnecessaryBeforeUnloadCheckSync,Translate,HttpsUpgrades,PaintHolding,ThirdPartyStoragePartitioning,LensOverlay,PlzDedicatedWorker --allow-pre-commit-input --disable-hang-monitor --disable-ipc-flooding-protection --disable-popup-blocking --disable-prompt-on-repost --disable-renderer-backgrounding --force-color-profile=srgb --metrics-recording-only --no-first-run --enable-automation --password-store=basic --use-mock-keychain --no-service-autorun --export-tagged-pdf --disable-search-engine-choice-screen --unsafely-disable-devtools-self-xss-warnings --no-sandbox --user-data-dir=/tmp/playwright_chromiumdev_profile-dqX4s5 --remote-debugging-pipe --no-startup-window\n  -   - <launched> pid=660058\n  -   - [pid=660058][err] [660058:660058:0206/154934.623663:ERROR:ozone_platform_x11.cc(245)] Missing X server or $DISPLAY\n  -   - [pid=660058][err] [660058:660058:0206/154934.623702:ERROR:env.cc(257)] The platform failed to initialize.  Exiting.\n",
     "output_type": "error",
     "traceback": [
      "\u001b[0;31m---------------------------------------------------------------------------\u001b[0m",
      "\u001b[0;31mTargetClosedError\u001b[0m                         Traceback (most recent call last)",
      "Cell \u001b[0;32mIn[4], line 63\u001b[0m\n\u001b[1;32m     60\u001b[0m     data \u001b[38;5;241m=\u001b[39m \u001b[38;5;28;01mawait\u001b[39;00m scrape_google(query_str)\n\u001b[1;32m     61\u001b[0m     \u001b[38;5;28mprint\u001b[39m(json\u001b[38;5;241m.\u001b[39mdumps(data, indent\u001b[38;5;241m=\u001b[39m\u001b[38;5;241m2\u001b[39m))\n\u001b[0;32m---> 63\u001b[0m \u001b[38;5;28;01mawait\u001b[39;00m main()\n",
      "Cell \u001b[0;32mIn[4], line 60\u001b[0m, in \u001b[0;36mmain\u001b[0;34m()\u001b[0m\n\u001b[1;32m     58\u001b[0m \u001b[38;5;28;01masync\u001b[39;00m \u001b[38;5;28;01mdef\u001b[39;00m\u001b[38;5;250m \u001b[39m\u001b[38;5;21mmain\u001b[39m():\n\u001b[1;32m     59\u001b[0m     query_str \u001b[38;5;241m=\u001b[39m \u001b[38;5;124m\"\u001b[39m\u001b[38;5;124mhow many birds in 12 days of christmas?\u001b[39m\u001b[38;5;124m\"\u001b[39m\n\u001b[0;32m---> 60\u001b[0m     data \u001b[38;5;241m=\u001b[39m \u001b[38;5;28;01mawait\u001b[39;00m scrape_google(query_str)\n\u001b[1;32m     61\u001b[0m     \u001b[38;5;28mprint\u001b[39m(json\u001b[38;5;241m.\u001b[39mdumps(data, indent\u001b[38;5;241m=\u001b[39m\u001b[38;5;241m2\u001b[39m))\n",
      "Cell \u001b[0;32mIn[4], line 8\u001b[0m, in \u001b[0;36mscrape_google\u001b[0;34m(query)\u001b[0m\n\u001b[1;32m      6\u001b[0m \u001b[38;5;28;01masync\u001b[39;00m \u001b[38;5;28;01mdef\u001b[39;00m\u001b[38;5;250m \u001b[39m\u001b[38;5;21mscrape_google\u001b[39m(query: \u001b[38;5;28mstr\u001b[39m):\n\u001b[1;32m      7\u001b[0m     \u001b[38;5;28;01masync\u001b[39;00m \u001b[38;5;28;01mwith\u001b[39;00m async_playwright() \u001b[38;5;28;01mas\u001b[39;00m p:\n\u001b[0;32m----> 8\u001b[0m         browser \u001b[38;5;241m=\u001b[39m \u001b[38;5;28;01mawait\u001b[39;00m p\u001b[38;5;241m.\u001b[39mchromium\u001b[38;5;241m.\u001b[39mlaunch(\n\u001b[1;32m      9\u001b[0m             headless\u001b[38;5;241m=\u001b[39m\u001b[38;5;28;01mFalse\u001b[39;00m,  \u001b[38;5;66;03m# Try headful to look more \"real\"\u001b[39;00m\n\u001b[1;32m     10\u001b[0m         )\n\u001b[1;32m     11\u001b[0m         context \u001b[38;5;241m=\u001b[39m \u001b[38;5;28;01mawait\u001b[39;00m browser\u001b[38;5;241m.\u001b[39mnew_context(\n\u001b[1;32m     12\u001b[0m             user_agent\u001b[38;5;241m=\u001b[39m\u001b[38;5;124m\"\u001b[39m\u001b[38;5;124mMozilla/5.0 (Windows NT 10.0; Win64; x64) AppleWebKit/537.36 \u001b[39m\u001b[38;5;124m\"\u001b[39m\n\u001b[1;32m     13\u001b[0m                        \u001b[38;5;124m\"\u001b[39m\u001b[38;5;124m(KHTML, like Gecko) Chrome/111.0.0.0 Safari/537.36\u001b[39m\u001b[38;5;124m\"\u001b[39m\n\u001b[1;32m     14\u001b[0m         )\n\u001b[1;32m     15\u001b[0m         page \u001b[38;5;241m=\u001b[39m \u001b[38;5;28;01mawait\u001b[39;00m context\u001b[38;5;241m.\u001b[39mnew_page()\n",
      "File \u001b[0;32m~/miniconda3/envs/rag_bench/lib/python3.10/site-packages/playwright/async_api/_generated.py:14418\u001b[0m, in \u001b[0;36mBrowserType.launch\u001b[0;34m(self, executable_path, channel, args, ignore_default_args, handle_sigint, handle_sigterm, handle_sighup, timeout, env, headless, devtools, proxy, downloads_path, slow_mo, traces_dir, chromium_sandbox, firefox_user_prefs)\u001b[0m\n\u001b[1;32m  14300\u001b[0m \u001b[38;5;28;01masync\u001b[39;00m \u001b[38;5;28;01mdef\u001b[39;00m\u001b[38;5;250m \u001b[39m\u001b[38;5;21mlaunch\u001b[39m(\n\u001b[1;32m  14301\u001b[0m     \u001b[38;5;28mself\u001b[39m,\n\u001b[1;32m  14302\u001b[0m     \u001b[38;5;241m*\u001b[39m,\n\u001b[0;32m   (...)\u001b[0m\n\u001b[1;32m  14323\u001b[0m     ] \u001b[38;5;241m=\u001b[39m \u001b[38;5;28;01mNone\u001b[39;00m,\n\u001b[1;32m  14324\u001b[0m ) \u001b[38;5;241m-\u001b[39m\u001b[38;5;241m>\u001b[39m \u001b[38;5;124m\"\u001b[39m\u001b[38;5;124mBrowser\u001b[39m\u001b[38;5;124m\"\u001b[39m:\n\u001b[1;32m  14325\u001b[0m \u001b[38;5;250m    \u001b[39m\u001b[38;5;124;03m\"\"\"BrowserType.launch\u001b[39;00m\n\u001b[1;32m  14326\u001b[0m \n\u001b[1;32m  14327\u001b[0m \u001b[38;5;124;03m    Returns the browser instance.\u001b[39;00m\n\u001b[0;32m   (...)\u001b[0m\n\u001b[1;32m  14414\u001b[0m \u001b[38;5;124;03m    Browser\u001b[39;00m\n\u001b[1;32m  14415\u001b[0m \u001b[38;5;124;03m    \"\"\"\u001b[39;00m\n\u001b[1;32m  14417\u001b[0m     \u001b[38;5;28;01mreturn\u001b[39;00m mapping\u001b[38;5;241m.\u001b[39mfrom_impl(\n\u001b[0;32m> 14418\u001b[0m         \u001b[38;5;28;01mawait\u001b[39;00m \u001b[38;5;28mself\u001b[39m\u001b[38;5;241m.\u001b[39m_impl_obj\u001b[38;5;241m.\u001b[39mlaunch(\n\u001b[1;32m  14419\u001b[0m             executablePath\u001b[38;5;241m=\u001b[39mexecutable_path,\n\u001b[1;32m  14420\u001b[0m             channel\u001b[38;5;241m=\u001b[39mchannel,\n\u001b[1;32m  14421\u001b[0m             args\u001b[38;5;241m=\u001b[39mmapping\u001b[38;5;241m.\u001b[39mto_impl(args),\n\u001b[1;32m  14422\u001b[0m             ignoreDefaultArgs\u001b[38;5;241m=\u001b[39mmapping\u001b[38;5;241m.\u001b[39mto_impl(ignore_default_args),\n\u001b[1;32m  14423\u001b[0m             handleSIGINT\u001b[38;5;241m=\u001b[39mhandle_sigint,\n\u001b[1;32m  14424\u001b[0m             handleSIGTERM\u001b[38;5;241m=\u001b[39mhandle_sigterm,\n\u001b[1;32m  14425\u001b[0m             handleSIGHUP\u001b[38;5;241m=\u001b[39mhandle_sighup,\n\u001b[1;32m  14426\u001b[0m             timeout\u001b[38;5;241m=\u001b[39mtimeout,\n\u001b[1;32m  14427\u001b[0m             env\u001b[38;5;241m=\u001b[39mmapping\u001b[38;5;241m.\u001b[39mto_impl(env),\n\u001b[1;32m  14428\u001b[0m             headless\u001b[38;5;241m=\u001b[39mheadless,\n\u001b[1;32m  14429\u001b[0m             devtools\u001b[38;5;241m=\u001b[39mdevtools,\n\u001b[1;32m  14430\u001b[0m             proxy\u001b[38;5;241m=\u001b[39mproxy,\n\u001b[1;32m  14431\u001b[0m             downloadsPath\u001b[38;5;241m=\u001b[39mdownloads_path,\n\u001b[1;32m  14432\u001b[0m             slowMo\u001b[38;5;241m=\u001b[39mslow_mo,\n\u001b[1;32m  14433\u001b[0m             tracesDir\u001b[38;5;241m=\u001b[39mtraces_dir,\n\u001b[1;32m  14434\u001b[0m             chromiumSandbox\u001b[38;5;241m=\u001b[39mchromium_sandbox,\n\u001b[1;32m  14435\u001b[0m             firefoxUserPrefs\u001b[38;5;241m=\u001b[39mmapping\u001b[38;5;241m.\u001b[39mto_impl(firefox_user_prefs),\n\u001b[1;32m  14436\u001b[0m         )\n\u001b[1;32m  14437\u001b[0m     )\n",
      "File \u001b[0;32m~/miniconda3/envs/rag_bench/lib/python3.10/site-packages/playwright/_impl/_browser_type.py:95\u001b[0m, in \u001b[0;36mBrowserType.launch\u001b[0;34m(self, executablePath, channel, args, ignoreDefaultArgs, handleSIGINT, handleSIGTERM, handleSIGHUP, timeout, env, headless, devtools, proxy, downloadsPath, slowMo, tracesDir, chromiumSandbox, firefoxUserPrefs)\u001b[0m\n\u001b[1;32m     92\u001b[0m params \u001b[38;5;241m=\u001b[39m locals_to_params(\u001b[38;5;28mlocals\u001b[39m())\n\u001b[1;32m     93\u001b[0m normalize_launch_params(params)\n\u001b[1;32m     94\u001b[0m browser \u001b[38;5;241m=\u001b[39m cast(\n\u001b[0;32m---> 95\u001b[0m     Browser, from_channel(\u001b[38;5;28;01mawait\u001b[39;00m \u001b[38;5;28mself\u001b[39m\u001b[38;5;241m.\u001b[39m_channel\u001b[38;5;241m.\u001b[39msend(\u001b[38;5;124m\"\u001b[39m\u001b[38;5;124mlaunch\u001b[39m\u001b[38;5;124m\"\u001b[39m, params))\n\u001b[1;32m     96\u001b[0m )\n\u001b[1;32m     97\u001b[0m \u001b[38;5;28mself\u001b[39m\u001b[38;5;241m.\u001b[39m_did_launch_browser(browser)\n\u001b[1;32m     98\u001b[0m \u001b[38;5;28;01mreturn\u001b[39;00m browser\n",
      "File \u001b[0;32m~/miniconda3/envs/rag_bench/lib/python3.10/site-packages/playwright/_impl/_connection.py:61\u001b[0m, in \u001b[0;36mChannel.send\u001b[0;34m(self, method, params)\u001b[0m\n\u001b[1;32m     60\u001b[0m \u001b[38;5;28;01masync\u001b[39;00m \u001b[38;5;28;01mdef\u001b[39;00m\u001b[38;5;250m \u001b[39m\u001b[38;5;21msend\u001b[39m(\u001b[38;5;28mself\u001b[39m, method: \u001b[38;5;28mstr\u001b[39m, params: Dict \u001b[38;5;241m=\u001b[39m \u001b[38;5;28;01mNone\u001b[39;00m) \u001b[38;5;241m-\u001b[39m\u001b[38;5;241m>\u001b[39m Any:\n\u001b[0;32m---> 61\u001b[0m     \u001b[38;5;28;01mreturn\u001b[39;00m \u001b[38;5;28;01mawait\u001b[39;00m \u001b[38;5;28mself\u001b[39m\u001b[38;5;241m.\u001b[39m_connection\u001b[38;5;241m.\u001b[39mwrap_api_call(\n\u001b[1;32m     62\u001b[0m         \u001b[38;5;28;01mlambda\u001b[39;00m: \u001b[38;5;28mself\u001b[39m\u001b[38;5;241m.\u001b[39m_inner_send(method, params, \u001b[38;5;28;01mFalse\u001b[39;00m),\n\u001b[1;32m     63\u001b[0m         \u001b[38;5;28mself\u001b[39m\u001b[38;5;241m.\u001b[39m_is_internal_type,\n\u001b[1;32m     64\u001b[0m     )\n",
      "File \u001b[0;32m~/miniconda3/envs/rag_bench/lib/python3.10/site-packages/playwright/_impl/_connection.py:528\u001b[0m, in \u001b[0;36mConnection.wrap_api_call\u001b[0;34m(self, cb, is_internal)\u001b[0m\n\u001b[1;32m    526\u001b[0m     \u001b[38;5;28;01mreturn\u001b[39;00m \u001b[38;5;28;01mawait\u001b[39;00m cb()\n\u001b[1;32m    527\u001b[0m \u001b[38;5;28;01mexcept\u001b[39;00m \u001b[38;5;167;01mException\u001b[39;00m \u001b[38;5;28;01mas\u001b[39;00m error:\n\u001b[0;32m--> 528\u001b[0m     \u001b[38;5;28;01mraise\u001b[39;00m rewrite_error(error, \u001b[38;5;124mf\u001b[39m\u001b[38;5;124m\"\u001b[39m\u001b[38;5;132;01m{\u001b[39;00mparsed_st[\u001b[38;5;124m'\u001b[39m\u001b[38;5;124mapiName\u001b[39m\u001b[38;5;124m'\u001b[39m]\u001b[38;5;132;01m}\u001b[39;00m\u001b[38;5;124m: \u001b[39m\u001b[38;5;132;01m{\u001b[39;00merror\u001b[38;5;132;01m}\u001b[39;00m\u001b[38;5;124m\"\u001b[39m) \u001b[38;5;28;01mfrom\u001b[39;00m\u001b[38;5;250m \u001b[39m\u001b[38;5;28;01mNone\u001b[39;00m\n\u001b[1;32m    529\u001b[0m \u001b[38;5;28;01mfinally\u001b[39;00m:\n\u001b[1;32m    530\u001b[0m     \u001b[38;5;28mself\u001b[39m\u001b[38;5;241m.\u001b[39m_api_zone\u001b[38;5;241m.\u001b[39mset(\u001b[38;5;28;01mNone\u001b[39;00m)\n",
      "\u001b[0;31mTargetClosedError\u001b[0m: BrowserType.launch: Target page, context or browser has been closed\nBrowser logs:\n\n╔════════════════════════════════════════════════════════════════════════════════════════════════╗\n║ Looks like you launched a headed browser without having a XServer running.                     ║\n║ Set either 'headless: true' or use 'xvfb-run <your-playwright-app>' before running Playwright. ║\n║                                                                                                ║\n║ <3 Playwright Team                                                                             ║\n╚════════════════════════════════════════════════════════════════════════════════════════════════╝\nCall log:\n  - <launching> /home/adanato/.cache/ms-playwright/chromium-1155/chrome-linux/chrome --disable-field-trial-config --disable-background-networking --disable-background-timer-throttling --disable-backgrounding-occluded-windows --disable-back-forward-cache --disable-breakpad --disable-client-side-phishing-detection --disable-component-extensions-with-background-pages --disable-component-update --no-default-browser-check --disable-default-apps --disable-dev-shm-usage --disable-extensions --disable-features=ImprovedCookieControls,LazyFrameLoading,GlobalMediaControls,DestroyProfileOnBrowserClose,MediaRouter,DialMediaRouteProvider,AcceptCHFrame,AutoExpandDetailsElement,CertificateTransparencyComponentUpdater,AvoidUnnecessaryBeforeUnloadCheckSync,Translate,HttpsUpgrades,PaintHolding,ThirdPartyStoragePartitioning,LensOverlay,PlzDedicatedWorker --allow-pre-commit-input --disable-hang-monitor --disable-ipc-flooding-protection --disable-popup-blocking --disable-prompt-on-repost --disable-renderer-backgrounding --force-color-profile=srgb --metrics-recording-only --no-first-run --enable-automation --password-store=basic --use-mock-keychain --no-service-autorun --export-tagged-pdf --disable-search-engine-choice-screen --unsafely-disable-devtools-self-xss-warnings --no-sandbox --user-data-dir=/tmp/playwright_chromiumdev_profile-dqX4s5 --remote-debugging-pipe --no-startup-window\n  -   - <launched> pid=660058\n  -   - [pid=660058][err] [660058:660058:0206/154934.623663:ERROR:ozone_platform_x11.cc(245)] Missing X server or $DISPLAY\n  -   - [pid=660058][err] [660058:660058:0206/154934.623702:ERROR:env.cc(257)] The platform failed to initialize.  Exiting.\n"
     ]
    }
   ],
   "source": [
    "import asyncio\n",
    "import json\n",
    "from playwright.async_api import async_playwright\n",
    "from playwright_stealth import stealth_async\n",
    "\n",
    "async def scrape_google(query: str):\n",
    "    async with async_playwright() as p:\n",
    "        browser = await p.chromium.launch(\n",
    "            headless=False,  # Try headful to look more \"real\"\n",
    "        )\n",
    "        context = await browser.new_context(\n",
    "            user_agent=\"Mozilla/5.0 (Windows NT 10.0; Win64; x64) AppleWebKit/537.36 \"\n",
    "                       \"(KHTML, like Gecko) Chrome/111.0.0.0 Safari/537.36\"\n",
    "        )\n",
    "        page = await context.new_page()\n",
    "        await stealth_async(page)  # Activate stealth\n",
    "\n",
    "        print(\"Navigating to google.com ...\")\n",
    "        await page.goto(\"https://www.google.com/\", timeout=30000)\n",
    "\n",
    "        # Maybe accept cookies if needed\n",
    "        # ...\n",
    "\n",
    "        # \"Human-like\" delays\n",
    "        await page.click(\"textarea[name='q']\")\n",
    "        await page.keyboard.type(query, delay=100)  # 100ms between keypress\n",
    "        await page.keyboard.press(\"Enter\")\n",
    "\n",
    "        # Wait for results or fallback\n",
    "        try:\n",
    "            await page.wait_for_selector(\"div.g\", timeout=15000)\n",
    "        except:\n",
    "            # Possibly got captcha page\n",
    "            print(\"Likely got captcha/blocked, returning empty.\")\n",
    "            return []\n",
    "\n",
    "        result_divs = await page.query_selector_all(\"div.g\")\n",
    "        results_data = []\n",
    "        for idx, div in enumerate(result_divs, start=1):\n",
    "            title_el = await div.query_selector(\"h3\")\n",
    "            if not title_el:\n",
    "                continue\n",
    "            title_text = await title_el.inner_text()\n",
    "            link_el = await div.query_selector(\"a\")\n",
    "            link_href = await link_el.get_attribute(\"href\") if link_el else None\n",
    "            snippet_el = await div.query_selector(\"div[data-sncf]\")\n",
    "            snippet_text = await snippet_el.inner_text() if snippet_el else \"\"\n",
    "            results_data.append({\n",
    "                \"position\": idx,\n",
    "                \"title\": title_text,\n",
    "                \"link\": link_href,\n",
    "                \"snippet\": snippet_text\n",
    "            })\n",
    "\n",
    "        await browser.close()\n",
    "        return results_data\n",
    "\n",
    "async def main():\n",
    "    query_str = \"how many birds in 12 days of christmas?\"\n",
    "    data = await scrape_google(query_str)\n",
    "    print(json.dumps(data, indent=2))\n",
    "\n",
    "await main()\n"
   ]
  },
  {
   "cell_type": "code",
   "execution_count": null,
   "metadata": {},
   "outputs": [],
   "source": []
  }
 ],
 "metadata": {
  "kernelspec": {
   "display_name": "rag_bench",
   "language": "python",
   "name": "python3"
  },
  "language_info": {
   "codemirror_mode": {
    "name": "ipython",
    "version": 3
   },
   "file_extension": ".py",
   "mimetype": "text/x-python",
   "name": "python",
   "nbconvert_exporter": "python",
   "pygments_lexer": "ipython3",
   "version": "3.10.16"
  }
 },
 "nbformat": 4,
 "nbformat_minor": 2
}
